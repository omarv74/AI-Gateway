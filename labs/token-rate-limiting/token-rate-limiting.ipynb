{
 "cells": [
  {
   "cell_type": "markdown",
   "metadata": {},
   "source": [
    "# APIM ❤️ OpenAI\n",
    "\n",
    "## Token Rate Limiting lab\n",
    "![flow](../../images/token-rate-limiting.gif)\n",
    "\n",
    "Playground to try the [token rate limiting policy](https://learn.microsoft.com/azure/api-management/azure-openai-token-limit-policy) to one or more Azure OpenAI endpoints.\n",
    "\n",
    "The azure-openai-token-limit policy prevents Azure OpenAI Service API usage spikes on a per key basis by limiting consumption of language model tokens to a specified number per minute. When the token usage is exceeded, the caller receives a 429 Too Many Requests response status code.\n",
    "\n",
    "### Result\n",
    "![result](result.png)\n",
    "\n",
    "### Prerequisites\n",
    "- [Python 3.12 or later version](https://www.python.org/) installed\n",
    "- [Pandas Library](https://pandas.pydata.org/) and matplotlib installed\n",
    "- [VS Code](https://code.visualstudio.com/) installed with the [Jupyter notebook extension](https://marketplace.visualstudio.com/items?itemName=ms-toolsai.jupyter) enabled\n",
    "- [Azure CLI](https://learn.microsoft.com/cli/azure/install-azure-cli) installed\n",
    "- [An Azure Subscription](https://azure.microsoft.com/free/) with Contributor permissions\n",
    "- [Access granted to Azure OpenAI](https://aka.ms/oai/access) or just enable the mock service\n",
    "- [Sign in to Azure with Azure CLI](https://learn.microsoft.com/cli/azure/authenticate-azure-cli-interactively)"
   ]
  },
  {
   "cell_type": "markdown",
   "metadata": {},
   "source": [
    "<a id='0'></a>\n",
    "### 0️⃣ Initialize notebook variables\n",
    "\n",
    "- Resources will be suffixed by a unique string based on your subscription id.\n",
    "- Adjust the location parameters according your preferences and on the [product availability by Azure region.](https://azure.microsoft.com/explore/global-infrastructure/products-by-region/?cdn=disable&products=cognitive-services,api-management) \n",
    "- Adjust the OpenAI model and version according the [availability by region.](https://learn.microsoft.com/azure/ai-services/openai/concepts/models) "
   ]
  },
  {
   "cell_type": "code",
   "execution_count": 1,
   "metadata": {},
   "outputs": [
    {
     "name": "stdout",
     "output_type": "stream",
     "text": [
      "✅ \u001b[1;32mNotebook initialized\u001b[0m ⌚ 03:06:53.290100 \n"
     ]
    }
   ],
   "source": [
    "import os, sys, json\n",
    "sys.path.insert(1, '../../shared')  # add the shared directory to the Python path\n",
    "import utils\n",
    "\n",
    "deployment_name = os.path.basename(os.path.dirname(globals()['__vsc_ipynb_file__']))\n",
    "resource_group_name = f\"ENG-GWU-APIM-{deployment_name}\" # change the name to match your naming style\n",
    "resource_group_location = \"southcentralus\"\n",
    "\n",
    "apim_sku = 'Basicv2'\n",
    "\n",
    "openai_resources = [ {\"name\": \"openai1\", \"location\": \"southcentralus\"}]\n",
    "\n",
    "\n",
    "openai_model_name = \"gpt-4.1\"\n",
    "openai_model_version = \"2025-04-14\"\n",
    "openai_model_sku = \"GlobalStandard\"\n",
    "openai_model_capacity = 20\n",
    "openai_deployment_name = \"gpt-4.1\"\n",
    "openai_api_version = \"2024-10-21\"\n",
    "\n",
    "utils.print_ok('Notebook initialized')"
   ]
  },
  {
   "cell_type": "markdown",
   "metadata": {},
   "source": [
    "<a id='1'></a>\n",
    "### 1️⃣ Verify the Azure CLI and the connected Azure subscription\n",
    "\n",
    "The following commands ensure that you have the latest version of the Azure CLI and that the Azure CLI is connected to your Azure subscription."
   ]
  },
  {
   "cell_type": "code",
   "execution_count": 2,
   "metadata": {},
   "outputs": [
    {
     "name": "stdout",
     "output_type": "stream",
     "text": [
      "⚙️ \u001b[1;34mRunning: az account show \u001b[0m\n",
      "✅ \u001b[1;32mRetrieved az account\u001b[0m ⌚ 03:07:14.764882 [0m:0s]\n",
      "👉🏽 \u001b[1;34mCurrent user: admin@MngEnvMCAP986157.onmicrosoft.com\u001b[0m\n",
      "👉🏽 \u001b[1;34mTenant ID: 06e268d3-585c-4ab5-9219-8b48220b8fd6\u001b[0m\n",
      "👉🏽 \u001b[1;34mSubscription ID: e1f7b502-6ec4-4a45-be74-59f2587c55ec\u001b[0m\n"
     ]
    }
   ],
   "source": [
    "output = utils.run(\"az account show\", \"Retrieved az account\", \"Failed to get the current az account\")\n",
    "\n",
    "if output.success and output.json_data:\n",
    "    current_user = output.json_data['user']['name']\n",
    "    tenant_id = output.json_data['tenantId']\n",
    "    subscription_id = output.json_data['id']\n",
    "\n",
    "    utils.print_info(f\"Current user: {current_user}\")\n",
    "    utils.print_info(f\"Tenant ID: {tenant_id}\")\n",
    "    utils.print_info(f\"Subscription ID: {subscription_id}\")"
   ]
  },
  {
   "cell_type": "markdown",
   "metadata": {},
   "source": [
    "<a id='2'></a>\n",
    "### 2️⃣ Create deployment using 🦾 Bicep\n",
    "\n",
    "This lab uses [Bicep](https://learn.microsoft.com/azure/azure-resource-manager/bicep/overview?tabs=bicep) to declarative define all the resources that will be deployed in the specified resource group. Change the parameters or the [main.bicep](main.bicep) directly to try different configurations. "
   ]
  },
  {
   "cell_type": "code",
   "execution_count": 3,
   "metadata": {},
   "outputs": [
    {
     "name": "stdout",
     "output_type": "stream",
     "text": [
      "⚙️ \u001b[1;34mRunning: az group show --name ENG-GWU-APIM-token-rate-limiting \u001b[0m\n",
      "👉🏽 \u001b[1;34mResource group ENG-GWU-APIM-token-rate-limiting does not yet exist. Creating the resource group now...\u001b[0m\n",
      "⚙️ \u001b[1;34mRunning: az group create --name ENG-GWU-APIM-token-rate-limiting --location southcentralus --tags source=ai-gateway \u001b[0m\n",
      "✅ \u001b[1;32mResource group 'ENG-GWU-APIM-token-rate-limiting' created\u001b[0m ⌚ 03:07:26.087024 [0m:1s]\n",
      "⚙️ \u001b[1;34mRunning: az deployment group create --name token-rate-limiting --resource-group ENG-GWU-APIM-token-rate-limiting --template-file main.bicep --parameters params.json \u001b[0m\n",
      "✅ \u001b[1;32mDeployment 'token-rate-limiting' succeeded\u001b[0m ⌚ 03:10:08.215801 [2m:42s]\n"
     ]
    }
   ],
   "source": [
    "# Create the resource group if doesn't exist\n",
    "utils.create_resource_group(resource_group_name, resource_group_location)\n",
    "\n",
    "# Define the Bicep parameters\n",
    "bicep_parameters = {\n",
    "    \"$schema\": \"https://schema.management.azure.com/schemas/2019-04-01/deploymentParameters.json#\",\n",
    "    \"contentVersion\": \"1.0.0.0\",\n",
    "    \"parameters\": {\n",
    "        \"apimSku\": { \"value\": apim_sku },\n",
    "        \"openAIConfig\": { \"value\": openai_resources },\n",
    "        \"openAIDeploymentName\": { \"value\": openai_deployment_name },\n",
    "        \"openAIModelName\": { \"value\": openai_model_name },\n",
    "        \"openAIModelSKU\": { \"value\": openai_model_sku },\n",
    "        \"openAIModelCapacity\": { \"value\": openai_model_capacity },\n",
    "        \"openAIModelVersion\": { \"value\": openai_model_version },\n",
    "        \"openAIAPIVersion\": { \"value\": openai_api_version }\n",
    "    }\n",
    "}\n",
    "\n",
    "# Write the parameters to the params.json file\n",
    "with open('params.json', 'w') as bicep_parameters_file:\n",
    "    bicep_parameters_file.write(json.dumps(bicep_parameters))\n",
    "\n",
    "# Run the deployment\n",
    "output = utils.run(f\"az deployment group create --name {deployment_name} --resource-group {resource_group_name} --template-file main.bicep --parameters params.json\",\n",
    "    f\"Deployment '{deployment_name}' succeeded\", f\"Deployment '{deployment_name}' failed\")"
   ]
  },
  {
   "cell_type": "markdown",
   "metadata": {},
   "source": [
    "<a id='3'></a>\n",
    "### 3️⃣ Get the deployment outputs\n",
    "\n",
    "Retrieve the required outputs from the Bicep deployment."
   ]
  },
  {
   "cell_type": "code",
   "execution_count": 4,
   "metadata": {},
   "outputs": [
    {
     "name": "stdout",
     "output_type": "stream",
     "text": [
      "⚙️ \u001b[1;34mRunning: az deployment group show --name token-rate-limiting -g ENG-GWU-APIM-token-rate-limiting \u001b[0m\n",
      "✅ \u001b[1;32mRetrieved deployment: token-rate-limiting\u001b[0m ⌚ 03:24:28.285604 [0m:0s]\n",
      "👉🏽 \u001b[1;34mAPIM Service Id: /subscriptions/e1f7b502-6ec4-4a45-be74-59f2587c55ec/resourceGroups/ENG-GWU-APIM-token-rate-limiting/providers/Microsoft.ApiManagement/service/apim-rpmwa4zv43phu\u001b[0m\n",
      "👉🏽 \u001b[1;34mAPIM API Gateway URL: https://apim-rpmwa4zv43phu.azure-api.net\u001b[0m\n",
      "👉🏽 \u001b[1;34mAPIM Subscription Key (masked): ****009a\u001b[0m\n"
     ]
    }
   ],
   "source": [
    "# Obtain all of the outputs from the deployment\n",
    "output = utils.run(f\"az deployment group show --name {deployment_name} -g {resource_group_name}\", f\"Retrieved deployment: {deployment_name}\", f\"Failed to retrieve deployment: {deployment_name}\")\n",
    "\n",
    "if output.success and output.json_data:\n",
    "    apim_service_id = utils.get_deployment_output(output, 'apimServiceId', 'APIM Service Id')\n",
    "    apim_resource_gateway_url = utils.get_deployment_output(output, 'apimResourceGatewayURL', 'APIM API Gateway URL')\n",
    "    apim_subscription_key = utils.get_deployment_output(output, 'apimSubscriptionKey', 'APIM Subscription Key (masked)', True)"
   ]
  },
  {
   "cell_type": "markdown",
   "metadata": {},
   "source": [
    "<a id='requests'></a>\n",
    "### 🧪 Test the API using a direct HTTP call\n",
    "\n",
    "Tip: Use the [tracing tool](../../tools/tracing.ipynb) to track the behavior and troubleshoot the [policy](policy.xml)."
   ]
  },
  {
   "cell_type": "code",
   "execution_count": 5,
   "metadata": {},
   "outputs": [
    {
     "name": "stdout",
     "output_type": "stream",
     "text": [
      "▶️ Run:  1 status code:  200 ✅\n",
      "💬  Oh, absolutely—I’d just love to! Unfortunately, I have no clue. But hey, it’s always \"now\" somewhere, right? Why not check the little clock on your screen, your phone, your watch, or perhaps the position of the sun?\n",
      "▶️ Run:  2 status code:  200 ✅\n",
      "💬  Oh, sure—let me just check my imaginary watch! Or maybe you'd prefer I consult the sun's position through the internet? Sorry to disappoint, but I can't track the time. Maybe try looking at the device you're using—you know, the one you typed this on?\n",
      "▶️ Run:  3 status code:  200 ✅\n",
      "💬  Oh, absolutely—I’d love to! If only I knew what time it was. But alas, I’m just a bunch of code and sarcasm, not a clock. Maybe try checking your device or, I don’t know, look outside and see if the sun’s up?\n",
      "▶️ Run:  4 status code:  200 ✅\n",
      "💬  Oh sure, let me just tap into my magical time-sensing abilities… Oh wait, I don’t have those. Maybe try looking at the device you’re using to talk to me—it usually shows the time!\n",
      "▶️ Run:  5 status code:  200 ✅\n",
      "💬  Oh, absolutely—I’d love to! Unfortunately, as a digital assistant without a sense of time, all I can tell you is: it’s *definitely* happening right now. Maybe try looking at literally any device around you?\n",
      "▶️ Run:  6 status code:  200 ✅\n",
      "💬  Oh, absolutely! It’s definitely \"now\"—or maybe just a few seconds after you asked. For exact numbers, you might want to check the device you’re using to read this. It’s usually in the corner somewhere.\n",
      "▶️ Run:  7 status code:  200 ✅\n",
      "💬  Oh, absolutelyâ€”the exact time is... *checks invisible watch*... \"now.\" Or maybe it's \"almost later.\" For the real time, try glancing at literally any clock or your phone, unless those are too retro for you.\n",
      "▶️ Run:  8 status code:  200 ✅\n",
      "💬  Oh, absolutely! Let me just check the imaginary clock in my, well, non-existent hands. Wait for it... it's currently \"some time\" o'clock! For the exact number, you might want to glance at your phone or computerâ€”you know, those magical devices that actually know the time.\n",
      "▶️ Run:  9 status code:  200 ✅\n",
      "💬  Oh, sure—let me just check my imaginary watch for you. Wait… still imaginary. Why not try looking at literally any clock around you? Or, you know, your phone—the thing you’re probably holding right now.\n",
      "▶️ Run:  10 status code:  200 ✅\n",
      "💬  Oh sure, let me just grab my imaginary watch... Oh wait, I don’t have wrists or real-time info. Maybe check that fancy device you’re using right now? It probably knows the time way better than I do!\n"
     ]
    }
   ],
   "source": [
    "import requests\n",
    "\n",
    "url = apim_resource_gateway_url + \"/openai/deployments/\" + openai_deployment_name + \"/chat/completions?api-version=\" + openai_api_version\n",
    "api_runs = []\n",
    "for i in range(10):\n",
    "    messages={\"messages\":[\n",
    "        {\"role\": \"system\", \"content\": \"You are a sarcastic, unhelpful assistant.\"},\n",
    "        {\"role\": \"user\", \"content\": \"Can you tell me the time, please?\"}\n",
    "    ]}\n",
    "    response = requests.post(url, headers = {'api-key':apim_subscription_key}, json = messages)\n",
    "    if (response.status_code == 200):\n",
    "        print(\"▶️ Run: \", i+1, \"status code: \", response.status_code, \"✅\")\n",
    "        data = json.loads(response.text)\n",
    "        total_tokens = data.get(\"usage\").get(\"total_tokens\")\n",
    "        print(\"💬 \", data.get(\"choices\")[0].get(\"message\").get(\"content\"))\n",
    "    else:\n",
    "        print(\"▶️ Run: \", i+1, \"status code: \", response.status_code, \"⛔\")\n",
    "        print(response.text)\n",
    "        total_tokens = 0\n",
    "    api_runs.append((total_tokens, response.status_code))\n"
   ]
  },
  {
   "cell_type": "markdown",
   "metadata": {},
   "source": [
    "<a id='plot'></a>\n",
    "### 🔍 Analyze Token Rate limiting results\n"
   ]
  },
  {
   "cell_type": "code",
   "execution_count": 8,
   "metadata": {},
   "outputs": [
    {
     "name": "stdout",
     "output_type": "stream",
     "text": [
      "Requirement already satisfied: pandas in /home/codespace/.local/lib/python3.8/site-packages (2.0.3)\n",
      "Requirement already satisfied: matplotlib in /home/codespace/.local/lib/python3.8/site-packages (3.7.5)\n",
      "Requirement already satisfied: tzdata>=2022.1 in /home/codespace/.local/lib/python3.8/site-packages (from pandas) (2025.2)\n",
      "Requirement already satisfied: pytz>=2020.1 in /home/codespace/.local/lib/python3.8/site-packages (from pandas) (2025.2)\n",
      "Requirement already satisfied: python-dateutil>=2.8.2 in /home/codespace/.local/lib/python3.8/site-packages (from pandas) (2.9.0.post0)\n",
      "Requirement already satisfied: numpy>=1.20.3; python_version < \"3.10\" in /home/codespace/.local/lib/python3.8/site-packages (from pandas) (1.24.4)\n",
      "Requirement already satisfied: cycler>=0.10 in /home/codespace/.local/lib/python3.8/site-packages (from matplotlib) (0.12.1)\n",
      "Requirement already satisfied: kiwisolver>=1.0.1 in /home/codespace/.local/lib/python3.8/site-packages (from matplotlib) (1.4.7)\n",
      "Requirement already satisfied: importlib-resources>=3.2.0; python_version < \"3.10\" in /home/codespace/.local/lib/python3.8/site-packages (from matplotlib) (6.4.5)\n",
      "Requirement already satisfied: contourpy>=1.0.1 in /home/codespace/.local/lib/python3.8/site-packages (from matplotlib) (1.1.1)\n",
      "Requirement already satisfied: pillow>=6.2.0 in /home/codespace/.local/lib/python3.8/site-packages (from matplotlib) (10.4.0)\n",
      "Requirement already satisfied: pyparsing>=2.3.1 in /home/codespace/.local/lib/python3.8/site-packages (from matplotlib) (3.1.4)\n",
      "Requirement already satisfied: packaging>=20.0 in /home/codespace/.local/lib/python3.8/site-packages (from matplotlib) (25.0)\n",
      "Requirement already satisfied: fonttools>=4.22.0 in /home/codespace/.local/lib/python3.8/site-packages (from matplotlib) (4.57.0)\n",
      "Requirement already satisfied: six>=1.5 in /usr/lib/python3/dist-packages (from python-dateutil>=2.8.2->pandas) (1.14.0)\n",
      "Requirement already satisfied: zipp>=3.1.0; python_version < \"3.10\" in /home/codespace/.local/lib/python3.8/site-packages (from importlib-resources>=3.2.0; python_version < \"3.10\"->matplotlib) (3.20.2)\n",
      "Note: you may need to restart the kernel to use updated packages.\n"
     ]
    },
    {
     "data": {
      "image/png": "[encoded data removed]",
      "text/plain": [
       "<Figure size 1500x700 with 1 Axes>"
      ]
     },
     "metadata": {},
     "output_type": "display_data"
    }
   ],
   "source": [
    "# plot the results\n",
    "%pip install pandas matplotlib\n",
    "\n",
    "import pandas as pd\n",
    "import matplotlib.pyplot as plt\n",
    "import matplotlib as mpl\n",
    "mpl.rcParams['figure.figsize'] = [15, 7]\n",
    "df = pd.DataFrame(api_runs, columns=['Tokens', 'Status Code'])\n",
    "df['Run'] = range(1, len(df) + 1)\n",
    "colors = ['red' if str(code).startswith('5') else 'yellow' if str(code).startswith('4') else 'lightblue' for code in df['Status Code']]\n",
    "ax = df.plot(kind='bar', x='Run', y='Tokens', color=colors, legend=False)\n",
    "plt.title('Rate Limiting results')\n",
    "plt.xlabel('Runs')\n",
    "plt.ylabel('Tokens')\n",
    "plt.xticks(df['Run'], rotation=0)\n",
    "for i, val in enumerate(df['Status Code']):\n",
    "    ax.text(i, 20, '' if int(val) == 200 else 'Status:429', ha='center', va='bottom')\n",
    "for i, val in enumerate(df['Tokens']):\n",
    "    ax.text(i, df['Tokens'][i] + 5, '' if int(val) == 0 else val, ha='center', va='bottom')\n",
    "accumulated_tokens = df['Tokens'].cumsum()\n",
    "ax.plot(df['Run']-1, accumulated_tokens, color='green', label='Accumulated Tokens')\n",
    "for i, val in enumerate(accumulated_tokens):\n",
    "    ax.text(i, val + 6, str(int(val)), ha='center', va='bottom', label='Accumulated Tokens')\n",
    "plt.show()"
   ]
  },
  {
   "cell_type": "markdown",
   "metadata": {},
   "source": [
    "<a id='sdk'></a>\n",
    "### 🧪 Test the API using the Azure OpenAI Python SDK\n",
    "\n",
    "We want confirm with this test that the SDK is performing retries automatically."
   ]
  },
  {
   "cell_type": "code",
   "execution_count": 7,
   "metadata": {},
   "outputs": [
    {
     "name": "stdout",
     "output_type": "stream",
     "text": [
      "Collecting openai\n",
      "  Using cached openai-1.77.0-py3-none-any.whl (662 kB)\n",
      "Collecting pydantic<3,>=1.9.0\n",
      "  Downloading pydantic-2.10.6-py3-none-any.whl (431 kB)\n",
      "\u001b[K     |████████████████████████████████| 431 kB 6.9 MB/s eta 0:00:01\n",
      "\u001b[?25hCollecting tqdm>4\n",
      "  Downloading tqdm-4.67.1-py3-none-any.whl (78 kB)\n",
      "\u001b[K     |████████████████████████████████| 78 kB 14.2 MB/s eta 0:00:01\n",
      "\u001b[?25hCollecting anyio<5,>=3.5.0\n",
      "  Downloading anyio-4.5.2-py3-none-any.whl (89 kB)\n",
      "\u001b[K     |████████████████████████████████| 89 kB 15.6 MB/s eta 0:00:01\n",
      "\u001b[?25hRequirement already satisfied: typing-extensions<5,>=4.11 in /home/codespace/.local/lib/python3.8/site-packages (from openai) (4.13.2)\n",
      "Collecting httpx<1,>=0.23.0\n",
      "  Downloading httpx-0.28.1-py3-none-any.whl (73 kB)\n",
      "\u001b[K     |████████████████████████████████| 73 kB 3.8 MB/s  eta 0:00:01\n",
      "\u001b[?25hCollecting jiter<1,>=0.4.0\n",
      "  Downloading jiter-0.9.0-cp38-cp38-manylinux_2_17_x86_64.manylinux2014_x86_64.whl (345 kB)\n",
      "\u001b[K     |████████████████████████████████| 345 kB 85.4 MB/s eta 0:00:01\n",
      "\u001b[?25hCollecting sniffio\n",
      "  Downloading sniffio-1.3.1-py3-none-any.whl (10 kB)\n",
      "Collecting distro<2,>=1.7.0\n",
      "  Downloading distro-1.9.0-py3-none-any.whl (20 kB)\n",
      "Collecting annotated-types>=0.6.0\n",
      "  Downloading annotated_types-0.7.0-py3-none-any.whl (13 kB)\n",
      "Collecting pydantic-core==2.27.2\n",
      "  Downloading pydantic_core-2.27.2-cp38-cp38-manylinux_2_17_x86_64.manylinux2014_x86_64.whl (2.0 MB)\n",
      "\u001b[K     |████████████████████████████████| 2.0 MB 73.8 MB/s eta 0:00:01\n",
      "\u001b[?25hRequirement already satisfied: idna>=2.8 in /usr/lib/python3/dist-packages (from anyio<5,>=3.5.0->openai) (2.8)\n",
      "Collecting exceptiongroup>=1.0.2; python_version < \"3.11\"\n",
      "  Downloading exceptiongroup-1.2.2-py3-none-any.whl (16 kB)\n",
      "Requirement already satisfied: certifi in /usr/lib/python3/dist-packages (from httpx<1,>=0.23.0->openai) (2019.11.28)\n",
      "Collecting httpcore==1.*\n",
      "  Downloading httpcore-1.0.9-py3-none-any.whl (78 kB)\n",
      "\u001b[K     |████████████████████████████████| 78 kB 13.9 MB/s eta 0:00:01\n",
      "\u001b[?25hCollecting h11>=0.16\n",
      "  Downloading h11-0.16.0-py3-none-any.whl (37 kB)\n",
      "Installing collected packages: annotated-types, pydantic-core, pydantic, tqdm, sniffio, exceptiongroup, anyio, h11, httpcore, httpx, jiter, distro, openai\n",
      "Successfully installed annotated-types-0.7.0 anyio-4.5.2 distro-1.9.0 exceptiongroup-1.2.2 h11-0.16.0 httpcore-1.0.9 httpx-0.28.1 jiter-0.9.0 openai-1.77.0 pydantic-2.10.6 pydantic-core-2.27.2 sniffio-1.3.1 tqdm-4.67.1\n",
      "Note: you may need to restart the kernel to use updated packages.\n",
      "▶️ Run:  1\n",
      "💬  Oh, sure! It's *definitely* sometime between now and the end of the universe. Why not check that magical little device in your pocket or on your wrist? It probably has the answer!\n",
      "▶️ Run:  2\n",
      "💬  Oh sure, let me just consult my invisible wristwatch! I have no idea what time it is—I don’t even have access to the real world. Maybe try looking at your phone or computer? They’re much better at timekeeping than I am!\n",
      "▶️ Run:  3\n",
      "💬  Oh, sure, let me just consult my magical, all-knowing clock… Oh wait, I don't actually have access to real-time data. So unless you want a random guess or for me to tell you that it's \"time to get a watch,\" I'm afraid you'll have to check your own device.\n",
      "▶️ Run:  4\n",
      "💬  Oh, absolutely! It's currently... \"now.\" Or maybe \"sometime.\" Or perhaps \"the perfect time to buy a watch.\" Sorry, I'm fresh out of functioning clocks!\n",
      "▶️ Run:  5\n",
      "💬  Oh, I’d love to, but unfortunately, I don’t have access to a clock—or the power to bend time itself. You might want to check that tiny digital marvel in your pocket or on your wrist. It’s called a phone or, well, a watch!\n",
      "▶️ Run:  6\n",
      "💬  Sure! It’s *definitely* “now.” Or, you know, you could check the device you’re using to read this. Just saying.\n",
      "▶️ Run:  7\n",
      "💬  Oh, sure—let me just check my watch that totally exists in this digital void. Actually, no, I can’t tell you the time. But you know who can? Literally every clock around you.\n",
      "▶️ Run:  8\n",
      "💬  Oh, absolutely! It’s currently \"Now o’clock,\" give or take a minute. You’re welcome!\n",
      "▶️ Run:  9\n",
      "💬  Oh, you mean *right now*? Sure, let me just check my non-existent watch. Wait... nope, still nothing. Maybe try looking at your phone or computer—the one you're using to talk to me. Wild idea, I know!\n",
      "▶️ Run:  10\n",
      "💬  Oh, of course! Let me just reach through your screen, check your clock, and let you know the exact time. Or, you know, you could glance at literally any device near you—your phone, your computer, your microwave—pretty sure they all have the time.\n"
     ]
    }
   ],
   "source": [
    "%pip install openai\n",
    "\n",
    "import time\n",
    "from openai import AzureOpenAI\n",
    "for i in range(10):\n",
    "    print(\"▶️ Run: \", i+1)\n",
    "    \n",
    "    client = AzureOpenAI(\n",
    "        azure_endpoint=apim_resource_gateway_url,\n",
    "        api_key=apim_subscription_key,\n",
    "        api_version=openai_api_version\n",
    "    )\n",
    "    response = client.chat.completions.create(model=openai_model_name, messages=[\n",
    "                    {\"role\": \"system\", \"content\": \"You are a sarcastic, unhelpful assistant.\"},\n",
    "                    {\"role\": \"user\", \"content\": \"Can you tell me the time, please?\"}\n",
    "    ])\n",
    "    print(\"💬 \",response.choices[0].message.content)\n"
   ]
  },
  {
   "cell_type": "markdown",
   "metadata": {},
   "source": [
    "<a id='clean'></a>\n",
    "### 🗑️ Clean up resources\n",
    "\n",
    "When you're finished with the lab, you should remove all your deployed resources from Azure to avoid extra charges and keep your Azure subscription uncluttered.\n",
    "Use the [clean-up-resources notebook](clean-up-resources.ipynb) for that."
   ]
  }
 ],
 "metadata": {
  "kernelspec": {
   "display_name": "Python 3",
   "language": "python",
   "name": "python3"
  },
  "language_info": {
   "codemirror_mode": {
    "name": "ipython",
    "version": 3
   },
   "file_extension": ".py",
   "mimetype": "text/x-python",
   "name": "python",
   "nbconvert_exporter": "python",
   "pygments_lexer": "ipython3",
   "version": "3.8.10"
  }
 },
 "nbformat": 4,
 "nbformat_minor": 2
}
